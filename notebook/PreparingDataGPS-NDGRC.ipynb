{
 "cells": [
  {
   "attachments": {},
   "cell_type": "markdown",
   "id": "a8b449a7-ff59-4b54-bd7d-4f3ec4495179",
   "metadata": {},
   "source": [
    "# Collecting and preparing data before analysis\n",
    "\n",
    "In that notebook I'm loading data from one run club.\n",
    "\n",
    "Data are being collected as usual and store into data folder.\n",
    "\n",
    "The fodler contains *gpx* files that need to be processed such that I have Pandas Dataframe to work with after to create datavisualization."
   ]
  },
  {
   "cell_type": "code",
   "execution_count": 1,
   "id": "cffe50e3-2c01-4baa-adf1-050701a7d305",
   "metadata": {},
   "outputs": [
    {
     "name": "stdout",
     "output_type": "stream",
     "text": [
      "      59\n"
     ]
    }
   ],
   "source": [
    "!ls ../data/gpx/NDGRC*gpx | wc -l"
   ]
  },
  {
   "cell_type": "code",
   "execution_count": 2,
   "id": "48289176-5fef-4a26-b562-f325b16c8142",
   "metadata": {},
   "outputs": [
    {
     "name": "stdout",
     "output_type": "stream",
     "text": [
      "      54\n"
     ]
    }
   ],
   "source": [
    "!ls ../data/csv/NDGRC*csv | wc -l"
   ]
  },
  {
   "cell_type": "code",
   "execution_count": 3,
   "id": "5904a8e4-fe58-48bf-9459-54798afd5244",
   "metadata": {},
   "outputs": [],
   "source": [
    "!rm ../data/csv/NDGRC*csv"
   ]
  },
  {
   "cell_type": "code",
   "execution_count": 4,
   "id": "ad0e0f5c-8608-4f17-bd1a-009dc2652009",
   "metadata": {},
   "outputs": [
    {
     "name": "stdout",
     "output_type": "stream",
     "text": [
      "zsh:1: no matches found: ../data/gpx/NDGRC*csv\n",
      "       0\n"
     ]
    }
   ],
   "source": [
    "!ls ../data/gpx/NDGRC*csv | wc -l"
   ]
  },
  {
   "cell_type": "markdown",
   "id": "648dccd6-f394-49c8-bb3d-1f6144042a60",
   "metadata": {},
   "source": [
    "### Import a few modules"
   ]
  },
  {
   "cell_type": "code",
   "execution_count": 5,
   "id": "dff46dae-c8ba-4ace-95a1-7dcd975a65fd",
   "metadata": {},
   "outputs": [],
   "source": [
    "import sys\n",
    "import numpy as np\n",
    "import pandas as pd\n",
    "import gpxpy\n",
    "import gpxpy.gpx\n",
    "import matplotlib.pyplot as plt\n",
    "import geopy.distance\n",
    "import glob\n",
    "import os\n",
    "import importlib\n",
    "import matplotlib.pyplot as plt\n",
    "from datetime import datetime\n",
    "import time"
   ]
  },
  {
   "cell_type": "markdown",
   "id": "7fd53f1f-60b0-43a2-97c4-6c2dd215bb98",
   "metadata": {},
   "source": [
    "below I'm loading my module."
   ]
  },
  {
   "cell_type": "code",
   "execution_count": 6,
   "id": "b5a1adc7-a5af-4dad-84da-58f88f1d4caa",
   "metadata": {},
   "outputs": [],
   "source": [
    "sys.path.append(\"../my_modules\")\n",
    "import toolToReadGPX as ttrgpx\n",
    "\n",
    "path_data     = \"../data/\"\n",
    "path_data_csv = \"../data/csv/\"\n",
    "run_club_name = \"NDGRC\" "
   ]
  },
  {
   "cell_type": "markdown",
   "id": "cd68fe64-2e79-48e3-a7d9-bfe1d62a3534",
   "metadata": {},
   "source": [
    "# Rename files\n",
    "\n",
    "I want all files to be as follows **RunRite_year_month_day.gpx**.\n",
    "\n",
    "I will:\n",
    "+ list the files\n",
    "+ lower case all the files\n",
    "+ re-write **RunRite**"
   ]
  },
  {
   "cell_type": "code",
   "execution_count": 7,
   "id": "0e2926af-f5af-4aa4-a04d-1e527916301b",
   "metadata": {},
   "outputs": [
    {
     "data": {
      "text/plain": [
       "['../data/gpx/NDGRC_2024_10_28.gpx',\n",
       " '../data/gpx/NDGRC_2024_11_04.gpx',\n",
       " '../data/gpx/NDGRC_2024_11_11.gpx',\n",
       " '../data/gpx/NDGRC_2024_11_18.gpx']"
      ]
     },
     "execution_count": 7,
     "metadata": {},
     "output_type": "execute_result"
    }
   ],
   "source": [
    "# list and rename the files\n",
    "ll = glob.glob(path_data+\"gpx/\"+run_club_name+\"*.gpx\")\n",
    "ll.sort()\n",
    "ll[-4:]"
   ]
  },
  {
   "cell_type": "code",
   "execution_count": 8,
   "id": "3ac2d5b1-7feb-4da1-839e-b4c07c52a4f6",
   "metadata": {},
   "outputs": [
    {
     "name": "stdout",
     "output_type": "stream",
     "text": [
      "59 ['../data/gpx/NDGRC_2024_11_11.gpx', '../data/gpx/NDGRC_2024_11_18.gpx']\n"
     ]
    }
   ],
   "source": [
    "# list and rename the files\n",
    "ll = glob.glob(path_data+\"gpx/\"+run_club_name+\"*.gpx\")\n",
    "ll.sort()\n",
    "flag_rename = \"True\"\n",
    "print(len(ll), ll[-2:])\n",
    "\n",
    "for c, l in enumerate(ll):\n",
    "    head_tail = os.path.split(ll[c])\n",
    "    dst_tail  = head_tail[1].lower()\n",
    "    dst_head_tail = head_tail[0]+\"/\"+run_club_name+\"_\"+dst_tail[-14:]\n",
    "    if flag_rename == True:\n",
    "        if dst_tail[-5] == \"b\": # in case we have two runs\n",
    "            dst_head_tail = head_tail[0]+\"/\"+run_club_name+\"_\"+dst_tail[-15:]\n",
    "            os.rename(ll[c], dst_head_tail) \n",
    "        else:\n",
    "            os.rename(ll[c], dst_head_tail)"
   ]
  },
  {
   "cell_type": "markdown",
   "id": "45a652ba-206f-4364-a259-764b74df353f",
   "metadata": {},
   "source": [
    "## Format data in pandas DataFrame\n",
    "\n",
    "Once I found the right Python libraries, I have created some tools (ie my own modules) to load those .gpx files, to get some information about them and to save them as pandas DataFrame. The idea is to no have to re-load all my source data files each time I want to do something with them.\n",
    "\n",
    "I'm using:\n",
    "+ https://pypi.org/project/gpxpy/\n",
    "+ https://pandas.pydata.org/"
   ]
  },
  {
   "cell_type": "code",
   "execution_count": 9,
   "id": "7f6afc6e-13c3-4094-a29b-058a18cd412a",
   "metadata": {},
   "outputs": [
    {
     "name": "stdout",
     "output_type": "stream",
     "text": [
      "There is 59 files to process.\n"
     ]
    }
   ],
   "source": [
    "importlib.reload(ttrgpx)\n",
    "\n",
    "# Select gpx file\n",
    "list_all_files_gpx = glob.glob(path_data+\"/gpx/\"+run_club_name+\"*.gpx\")\n",
    "list_all_files_gpx.sort()\n",
    "print(\"There is {0:1.0f} files to process.\".format(len(list_all_files_gpx)))\n",
    "\n",
    "#new_list = [expression for member in iterable]\n",
    "list_all_files_as_df = [ttrgpx.fun_gpx2pd(single_gpx) for single_gpx in list_all_files_gpx]\n",
    "\n",
    "# get number of run\n",
    "nb_run = len(list_all_files_as_df)"
   ]
  },
  {
   "cell_type": "code",
   "execution_count": 10,
   "id": "566f924c-dc24-4c29-8387-4a8e9e355a80",
   "metadata": {},
   "outputs": [
    {
     "name": "stdout",
     "output_type": "stream",
     "text": [
      "Average distance per run for all the gpx paths listed: 8.06km.\n"
     ]
    }
   ],
   "source": [
    "# get average distance for this year\n",
    "list_cumulative_distance = [x.iloc[-1,4] for x in list_all_files_as_df]\n",
    "average_run_distance     = sum(list_cumulative_distance) / (1000*len(list_cumulative_distance))\n",
    "\n",
    "print(\"Average distance per run for all the gpx paths listed: {0:1.2f}km.\".format(average_run_distance))"
   ]
  },
  {
   "cell_type": "markdown",
   "id": "b8d4a206-9ff5-49c2-9649-c2863abaa19c",
   "metadata": {},
   "source": [
    "# Reduce data size\n",
    "\n",
    "Here I will reduce the data size as I don't need so many points (eg here more than 1000) and will reduce the length to **x** points per gpx points.\n",
    "\n",
    "And I will save the downsample path as csv files."
   ]
  },
  {
   "cell_type": "code",
   "execution_count": 11,
   "id": "a6854bb1-d55c-41e4-b3d5-ae8fd1e9688b",
   "metadata": {},
   "outputs": [
    {
     "data": {
      "text/html": [
       "<div>\n",
       "<style scoped>\n",
       "    .dataframe tbody tr th:only-of-type {\n",
       "        vertical-align: middle;\n",
       "    }\n",
       "\n",
       "    .dataframe tbody tr th {\n",
       "        vertical-align: top;\n",
       "    }\n",
       "\n",
       "    .dataframe thead th {\n",
       "        text-align: right;\n",
       "    }\n",
       "</style>\n",
       "<table border=\"1\" class=\"dataframe\">\n",
       "  <thead>\n",
       "    <tr style=\"text-align: right;\">\n",
       "      <th></th>\n",
       "      <th>latitude</th>\n",
       "      <th>longitude</th>\n",
       "      <th>elevation</th>\n",
       "      <th>distance</th>\n",
       "      <th>cumulative_distance</th>\n",
       "    </tr>\n",
       "  </thead>\n",
       "  <tbody>\n",
       "    <tr>\n",
       "      <th>count</th>\n",
       "      <td>200.000000</td>\n",
       "      <td>200.000000</td>\n",
       "      <td>200.000000</td>\n",
       "      <td>200.000000</td>\n",
       "      <td>200.000000</td>\n",
       "    </tr>\n",
       "    <tr>\n",
       "      <th>mean</th>\n",
       "      <td>45.470804</td>\n",
       "      <td>-73.618919</td>\n",
       "      <td>70.068000</td>\n",
       "      <td>2.672314</td>\n",
       "      <td>3935.693517</td>\n",
       "    </tr>\n",
       "    <tr>\n",
       "      <th>std</th>\n",
       "      <td>0.004485</td>\n",
       "      <td>0.006761</td>\n",
       "      <td>10.512944</td>\n",
       "      <td>1.119031</td>\n",
       "      <td>2338.219565</td>\n",
       "    </tr>\n",
       "    <tr>\n",
       "      <th>min</th>\n",
       "      <td>45.464986</td>\n",
       "      <td>-73.632186</td>\n",
       "      <td>55.000000</td>\n",
       "      <td>0.000000</td>\n",
       "      <td>0.000000</td>\n",
       "    </tr>\n",
       "    <tr>\n",
       "      <th>25%</th>\n",
       "      <td>45.467046</td>\n",
       "      <td>-73.623688</td>\n",
       "      <td>61.800000</td>\n",
       "      <td>2.430999</td>\n",
       "      <td>1897.618941</td>\n",
       "    </tr>\n",
       "    <tr>\n",
       "      <th>50%</th>\n",
       "      <td>45.469167</td>\n",
       "      <td>-73.618816</td>\n",
       "      <td>67.900000</td>\n",
       "      <td>2.889642</td>\n",
       "      <td>3975.103134</td>\n",
       "    </tr>\n",
       "    <tr>\n",
       "      <th>75%</th>\n",
       "      <td>45.475323</td>\n",
       "      <td>-73.614250</td>\n",
       "      <td>76.000000</td>\n",
       "      <td>3.274133</td>\n",
       "      <td>5925.019651</td>\n",
       "    </tr>\n",
       "    <tr>\n",
       "      <th>max</th>\n",
       "      <td>45.478963</td>\n",
       "      <td>-73.605581</td>\n",
       "      <td>95.400000</td>\n",
       "      <td>6.750056</td>\n",
       "      <td>7988.597676</td>\n",
       "    </tr>\n",
       "  </tbody>\n",
       "</table>\n",
       "</div>"
      ],
      "text/plain": [
       "         latitude   longitude   elevation    distance  cumulative_distance\n",
       "count  200.000000  200.000000  200.000000  200.000000           200.000000\n",
       "mean    45.470804  -73.618919   70.068000    2.672314          3935.693517\n",
       "std      0.004485    0.006761   10.512944    1.119031          2338.219565\n",
       "min     45.464986  -73.632186   55.000000    0.000000             0.000000\n",
       "25%     45.467046  -73.623688   61.800000    2.430999          1897.618941\n",
       "50%     45.469167  -73.618816   67.900000    2.889642          3975.103134\n",
       "75%     45.475323  -73.614250   76.000000    3.274133          5925.019651\n",
       "max     45.478963  -73.605581   95.400000    6.750056          7988.597676"
      ]
     },
     "execution_count": 11,
     "metadata": {},
     "output_type": "execute_result"
    }
   ],
   "source": [
    "importlib.reload(ttrgpx)\n",
    "\n",
    "# reduce the size\n",
    "list_all_files_ReSample_as_df = [ttrgpx.fun_DownSample_gpx(x, number_of_sample = 200) for x in list_all_files_as_df]\n",
    "\n",
    "# check one gpx path\n",
    "list_all_files_ReSample_as_df[0].describe()"
   ]
  },
  {
   "cell_type": "markdown",
   "id": "a5a8c21a-ee9d-4cc1-a7d2-0426fdf3debf",
   "metadata": {},
   "source": [
    "## Check last run date"
   ]
  },
  {
   "cell_type": "code",
   "execution_count": 12,
   "id": "39ad120b-8685-4c74-acd0-0596579cee0a",
   "metadata": {},
   "outputs": [
    {
     "name": "stdout",
     "output_type": "stream",
     "text": [
      "NDGRC_2024_10_21\n"
     ]
    }
   ],
   "source": [
    "head_tail = os.path.split(ll[-1])\n",
    "print(head_tail[1][0:-4])"
   ]
  },
  {
   "cell_type": "markdown",
   "id": "bd7ac942-1864-48c3-9761-1c6ebe5653f7",
   "metadata": {},
   "source": [
    "# Save as csv"
   ]
  },
  {
   "cell_type": "code",
   "execution_count": 12,
   "id": "a93389ea-7ebe-47a7-904e-e1ed14e94091",
   "metadata": {},
   "outputs": [],
   "source": [
    "# get list of gpx file name\n",
    "# -> list_all_files_gpx from above\n",
    "\n",
    "# create list of csv file name\n",
    "list_csv_file_name = [path_data_csv+os.path.split(x)[1][0:-4]+\"_downSample.csv\" for x in list_all_files_gpx]\n",
    "\n",
    "# export DataFrame as csv file\n",
    "for c,df_ in enumerate(list_all_files_ReSample_as_df):\n",
    "    df_.to_csv(list_csv_file_name[c], index=False)\n",
    "    "
   ]
  },
  {
   "cell_type": "code",
   "execution_count": 13,
   "id": "eaddf45a-a945-4d01-9f59-18b0dfd253d2",
   "metadata": {},
   "outputs": [
    {
     "name": "stdout",
     "output_type": "stream",
     "text": [
      "      59\n"
     ]
    }
   ],
   "source": [
    "!ls ../data/csv/NDGRC*.csv | wc -l"
   ]
  },
  {
   "cell_type": "markdown",
   "id": "0f0270ba-68b0-41e1-a44c-33271338951a",
   "metadata": {},
   "source": [
    "Check that the csv files has been created."
   ]
  },
  {
   "cell_type": "code",
   "execution_count": 14,
   "id": "00f41667-581c-4b74-b1ea-b5847644ea6b",
   "metadata": {},
   "outputs": [
    {
     "data": {
      "text/plain": [
       "1128.637320689646"
      ]
     },
     "execution_count": 14,
     "metadata": {},
     "output_type": "execute_result"
    }
   ],
   "source": [
    "# load one file\n",
    "new_df = pd.read_csv(path_data_csv+\"NDGRC_2023_03_06_downSample.csv\")\n",
    "\n",
    "# to check if it is the same as the list of Dataframe\n",
    "new_df[\"cumulative_distance\"].iloc[-1] - list_all_files_ReSample_as_df[-1][\"cumulative_distance\"].iloc[-1]"
   ]
  },
  {
   "cell_type": "raw",
   "id": "e3aed93d-fbd3-4128-b633-edd5e153fd14",
   "metadata": {},
   "source": [
    "salary = 12000\n",
    "coeff_reduc = 0.75\n",
    "nb_month_full = 14\n",
    "nb_month_reduc = 6\n",
    "total_received = (salary / 12) * nb_month_full + (salary * coeff_reduc / 12) * nb_month_reduc\n",
    "print(total_received)\n",
    "virtual_salary = total_received / (nb_month_full + nb_month_reduc)\n",
    "virtual_year = virtual_salary * 12\n",
    "print(virtual_year)\n",
    "\n",
    "# 120.000 - 105.000 = 15\n",
    "print(\"% Vs DNEG:\",105000 / (120000 /100))\n",
    "print(\"Augmentation:\",2.5 * (120000 /100))\n",
    "print(3000 )"
   ]
  },
  {
   "cell_type": "markdown",
   "id": "93566bd4-d455-4943-9b07-86bf10f41b18",
   "metadata": {},
   "source": [
    "\n"
   ]
  },
  {
   "cell_type": "markdown",
   "id": "72127340-22ef-41d5-b320-926b9331edf7",
   "metadata": {},
   "source": [
    "Datavisualization in another notebook."
   ]
  }
 ],
 "metadata": {
  "kernelspec": {
   "display_name": "Python 3 (ipykernel)",
   "language": "python",
   "name": "python3"
  },
  "language_info": {
   "codemirror_mode": {
    "name": "ipython",
    "version": 3
   },
   "file_extension": ".py",
   "mimetype": "text/x-python",
   "name": "python",
   "nbconvert_exporter": "python",
   "pygments_lexer": "ipython3",
   "version": "3.12.4"
  }
 },
 "nbformat": 4,
 "nbformat_minor": 5
}
