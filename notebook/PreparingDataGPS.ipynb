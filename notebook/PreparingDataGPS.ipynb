{
 "cells": [
  {
   "attachments": {},
   "cell_type": "markdown",
   "id": "a8b449a7-ff59-4b54-bd7d-4f3ec4495179",
   "metadata": {},
   "source": [
    "# Collecting and preparing data before analysis\n",
    "How to start? I have several .gpx files, one for each run, over several years and I want to generate some visualizations based on those data. To do so I'm using the pandas library.\n",
    "\n",
    "Before we start, the only few things I know about those gps paths are the followings:\n",
    "+ one path per week *when I have the data*\n",
    "+ it starts from different locations, but each path is a loop *ie the path comes back to its origin*\n",
    "+ it almost always reaches the same middle point *ie the same gps location*\n",
    "\n",
    "## Collect data\n",
    "It is the part of the project that requires a huge amount of time.\n",
    "\n",
    "I ended up gathering .gpx files, one for each run. Here I just renamed each file according to the date the run was done.\n",
    "\n",
    "### Check data files to be processed"
   ]
  },
  {
   "cell_type": "code",
   "execution_count": 1,
   "id": "cffe50e3-2c01-4baa-adf1-050701a7d305",
   "metadata": {},
   "outputs": [
    {
     "name": "stdout",
     "output_type": "stream",
     "text": [
      "     108\n"
     ]
    }
   ],
   "source": [
    "!ls ../data/gpx/*gpx | wc -l"
   ]
  },
  {
   "cell_type": "markdown",
   "id": "648dccd6-f394-49c8-bb3d-1f6144042a60",
   "metadata": {},
   "source": [
    "### Import a few modules"
   ]
  },
  {
   "cell_type": "code",
   "execution_count": 2,
   "id": "dff46dae-c8ba-4ace-95a1-7dcd975a65fd",
   "metadata": {},
   "outputs": [],
   "source": [
    "import sys\n",
    "import numpy as np\n",
    "import pandas as pd\n",
    "import gpxpy\n",
    "import gpxpy.gpx\n",
    "import matplotlib.pyplot as plt\n",
    "import geopy.distance\n",
    "import glob\n",
    "import os\n",
    "import importlib\n",
    "import matplotlib.pyplot as plt\n",
    "from matplotlib.animation import FuncAnimation\n",
    "from datetime import datetime"
   ]
  },
  {
   "cell_type": "markdown",
   "id": "7fd53f1f-60b0-43a2-97c4-6c2dd215bb98",
   "metadata": {},
   "source": [
    "below I'm loading my module."
   ]
  },
  {
   "cell_type": "code",
   "execution_count": 3,
   "id": "b5a1adc7-a5af-4dad-84da-58f88f1d4caa",
   "metadata": {},
   "outputs": [],
   "source": [
    "sys.path.append(\"../my_modules\")\n",
    "import toolToReadGPX as ttrgpx\n",
    "\n",
    "path_data     = \"../data/\"\n",
    "path_data_csv = \"../data/csv/\""
   ]
  },
  {
   "cell_type": "markdown",
   "id": "cd68fe64-2e79-48e3-a7d9-bfe1d62a3534",
   "metadata": {},
   "source": [
    "# Rename files\n",
    "\n",
    "I want all files to be as follows **RunRite_year_month_day.gpx**.\n",
    "\n",
    "I will:\n",
    "+ list the files\n",
    "+ lower case all the files\n",
    "+ re-write **RunRite**"
   ]
  },
  {
   "cell_type": "code",
   "execution_count": 4,
   "id": "ac263a81-c3d4-4e89-af30-83c0ab236b48",
   "metadata": {},
   "outputs": [
    {
     "name": "stdout",
     "output_type": "stream",
     "text": [
      "108\n"
     ]
    }
   ],
   "source": [
    "# list and rename the files\n",
    "ll = glob.glob(path_data+\"gpx/*.gpx\")\n",
    "ll.sort()\n",
    "for c, l in enumerate(ll):\n",
    "    head_tail = os.path.split(ll[c])\n",
    "    dst_tail = head_tail[1].lower()\n",
    "    dst_head_tail = head_tail[0]+\"/\"+\"RunRite\"+dst_tail[7:]\n",
    "    os.rename(ll[c], dst_head_tail)\n",
    "\n",
    "print(len(ll))"
   ]
  },
  {
   "cell_type": "markdown",
   "id": "45a652ba-206f-4364-a259-764b74df353f",
   "metadata": {},
   "source": [
    "## Format data in pandas DataFrame\n",
    "\n",
    "Once I found the right Python libraries, I have created some tools (ie my own modules) to load those .gpx files, to get some information about them and to save them as pandas DataFrame. The idea is to no have to re-load all my source data files each time I want to do something with them.\n",
    "\n",
    "I'm using:\n",
    "+ https://pypi.org/project/gpxpy/\n",
    "+ https://pandas.pydata.org/"
   ]
  },
  {
   "cell_type": "code",
   "execution_count": 5,
   "id": "5cd7ee96-d613-40f9-998d-7b897214645b",
   "metadata": {},
   "outputs": [
    {
     "name": "stdout",
     "output_type": "stream",
     "text": [
      "There is 108 files to process.\n"
     ]
    }
   ],
   "source": [
    "importlib.reload(ttrgpx)\n",
    "\n",
    "# Select gpx file\n",
    "list_all_files = glob.glob(path_data+\"/gpx/RunRite*.gpx\")\n",
    "list_all_files.sort()\n",
    "print(\"There is {0:1.0f} files to process.\".format(len(list_all_files)))\n",
    "\n",
    "# convert list of files to a list of dataFrame\n",
    "list_all_files_df = ttrgpx.fun_listPath_gpx2pd(list_all_files)\n",
    "\n",
    "# get number of run\n",
    "nb_run = len(list_all_files_df)"
   ]
  },
  {
   "cell_type": "code",
   "execution_count": 6,
   "id": "e04a63c2-aafd-4f99-8fda-bcc6df06428e",
   "metadata": {},
   "outputs": [
    {
     "name": "stdout",
     "output_type": "stream",
     "text": [
      "Average distance per run for all the gpx paths listed: 10.98km.\n"
     ]
    }
   ],
   "source": [
    "# get average distance for this year\n",
    "vec_run_distance = np.zeros(nb_run)\n",
    "for i in np.arange(nb_run):\n",
    "    vec_run_distance[i] = list_all_files_df[i].iloc[-1,4]\n",
    "\n",
    "average_run_distance = np.mean(vec_run_distance / 1000)\n",
    "\n",
    "print(\"Average distance per run for all the gpx paths listed: {0:1.2f}km.\".format(average_run_distance))"
   ]
  },
  {
   "cell_type": "markdown",
   "id": "dbd3f61d-8b52-45c8-a826-a6db72b1f0ae",
   "metadata": {},
   "source": [
    "Check how one gpx path looks like:"
   ]
  },
  {
   "cell_type": "markdown",
   "id": "b8d4a206-9ff5-49c2-9649-c2863abaa19c",
   "metadata": {},
   "source": [
    "# Reduce data size and data as csv\n",
    "\n",
    "Here I will reduce the data size as I don't need so many points (eg here more than 1000) and will reduce the length to **x** points per gpx points.\n",
    "\n",
    "And I will save the downsample path as csv files."
   ]
  },
  {
   "cell_type": "code",
   "execution_count": 27,
   "id": "a6854bb1-d55c-41e4-b3d5-ae8fd1e9688b",
   "metadata": {},
   "outputs": [
    {
     "name": "stdout",
     "output_type": "stream",
     "text": [
      "108\n"
     ]
    },
    {
     "data": {
      "text/html": [
       "<div>\n",
       "<style scoped>\n",
       "    .dataframe tbody tr th:only-of-type {\n",
       "        vertical-align: middle;\n",
       "    }\n",
       "\n",
       "    .dataframe tbody tr th {\n",
       "        vertical-align: top;\n",
       "    }\n",
       "\n",
       "    .dataframe thead th {\n",
       "        text-align: right;\n",
       "    }\n",
       "</style>\n",
       "<table border=\"1\" class=\"dataframe\">\n",
       "  <thead>\n",
       "    <tr style=\"text-align: right;\">\n",
       "      <th></th>\n",
       "      <th>latitude</th>\n",
       "      <th>longitude</th>\n",
       "      <th>elevation</th>\n",
       "      <th>distance</th>\n",
       "      <th>cumulative_distance</th>\n",
       "    </tr>\n",
       "  </thead>\n",
       "  <tbody>\n",
       "    <tr>\n",
       "      <th>count</th>\n",
       "      <td>100.000000</td>\n",
       "      <td>100.000000</td>\n",
       "      <td>100.000000</td>\n",
       "      <td>100.000000</td>\n",
       "      <td>100.000000</td>\n",
       "    </tr>\n",
       "    <tr>\n",
       "      <th>mean</th>\n",
       "      <td>45.468929</td>\n",
       "      <td>-73.624705</td>\n",
       "      <td>73.310000</td>\n",
       "      <td>2.423878</td>\n",
       "      <td>4926.576085</td>\n",
       "    </tr>\n",
       "    <tr>\n",
       "      <th>std</th>\n",
       "      <td>0.005701</td>\n",
       "      <td>0.008375</td>\n",
       "      <td>8.502757</td>\n",
       "      <td>1.046578</td>\n",
       "      <td>2765.450691</td>\n",
       "    </tr>\n",
       "    <tr>\n",
       "      <th>min</th>\n",
       "      <td>45.458722</td>\n",
       "      <td>-73.640089</td>\n",
       "      <td>60.000000</td>\n",
       "      <td>0.000000</td>\n",
       "      <td>0.000000</td>\n",
       "    </tr>\n",
       "    <tr>\n",
       "      <th>25%</th>\n",
       "      <td>45.464626</td>\n",
       "      <td>-73.632082</td>\n",
       "      <td>66.000000</td>\n",
       "      <td>2.256777</td>\n",
       "      <td>2636.791994</td>\n",
       "    </tr>\n",
       "    <tr>\n",
       "      <th>50%</th>\n",
       "      <td>45.469419</td>\n",
       "      <td>-73.622529</td>\n",
       "      <td>71.000000</td>\n",
       "      <td>2.621083</td>\n",
       "      <td>5002.988528</td>\n",
       "    </tr>\n",
       "    <tr>\n",
       "      <th>75%</th>\n",
       "      <td>45.474010</td>\n",
       "      <td>-73.618103</td>\n",
       "      <td>78.000000</td>\n",
       "      <td>2.987005</td>\n",
       "      <td>7267.802797</td>\n",
       "    </tr>\n",
       "    <tr>\n",
       "      <th>max</th>\n",
       "      <td>45.478080</td>\n",
       "      <td>-73.610549</td>\n",
       "      <td>93.000000</td>\n",
       "      <td>4.714748</td>\n",
       "      <td>9549.687209</td>\n",
       "    </tr>\n",
       "  </tbody>\n",
       "</table>\n",
       "</div>"
      ],
      "text/plain": [
       "         latitude   longitude   elevation    distance  cumulative_distance\n",
       "count  100.000000  100.000000  100.000000  100.000000           100.000000\n",
       "mean    45.468929  -73.624705   73.310000    2.423878          4926.576085\n",
       "std      0.005701    0.008375    8.502757    1.046578          2765.450691\n",
       "min     45.458722  -73.640089   60.000000    0.000000             0.000000\n",
       "25%     45.464626  -73.632082   66.000000    2.256777          2636.791994\n",
       "50%     45.469419  -73.622529   71.000000    2.621083          5002.988528\n",
       "75%     45.474010  -73.618103   78.000000    2.987005          7267.802797\n",
       "max     45.478080  -73.610549   93.000000    4.714748          9549.687209"
      ]
     },
     "execution_count": 27,
     "metadata": {},
     "output_type": "execute_result"
    }
   ],
   "source": [
    "importlib.reload(ttrgpx)\n",
    "\n",
    "# reduce the size\n",
    "list_all_files_ReSample_df = []\n",
    "\n",
    "for c,d in enumerate(list_all_files_df):\n",
    "    df = list_all_files_df[c]\n",
    "    ReSample_df = ttrgpx.fun_DownSample_gpx(df, number_of_sample = 100) # <--- here I choose to how many points I reduce the size of a trace\n",
    "    list_all_files_ReSample_df.append(ReSample_df)\n",
    "\n",
    "print(len(list_all_files_df))\n",
    "      \n",
    "# check one gpx path\n",
    "list_all_files_ReSample_df[0].describe()"
   ]
  },
  {
   "cell_type": "code",
   "execution_count": 8,
   "id": "39ad120b-8685-4c74-acd0-0596579cee0a",
   "metadata": {},
   "outputs": [
    {
     "name": "stdout",
     "output_type": "stream",
     "text": [
      "RunRite_2018_01_18\n"
     ]
    }
   ],
   "source": [
    "head_tail = os.path.split(ll[0])\n",
    "print(head_tail[1][0:-4])"
   ]
  },
  {
   "cell_type": "markdown",
   "id": "bd7ac942-1864-48c3-9761-1c6ebe5653f7",
   "metadata": {},
   "source": [
    "# Save as csv"
   ]
  },
  {
   "cell_type": "code",
   "execution_count": 30,
   "id": "a93389ea-7ebe-47a7-904e-e1ed14e94091",
   "metadata": {},
   "outputs": [],
   "source": [
    "for c,d in enumerate(list_all_files_ReSample_df):\n",
    "    head_tail = os.path.split(ll[c])\n",
    "    \n",
    "    df = list_all_files_ReSample_df[c]\n",
    "    path_to_downSample_data = path_data_csv+head_tail[1][0:-4]+\"_downSample.csv\"\n",
    "    df.to_csv(path_to_downSample_data, index=False)"
   ]
  },
  {
   "cell_type": "code",
   "execution_count": 19,
   "id": "eaddf45a-a945-4d01-9f59-18b0dfd253d2",
   "metadata": {},
   "outputs": [
    {
     "name": "stdout",
     "output_type": "stream",
     "text": [
      "      70\n"
     ]
    }
   ],
   "source": [
    "!ls ../data/csv/*.csv | wc -l"
   ]
  },
  {
   "cell_type": "markdown",
   "id": "0f0270ba-68b0-41e1-a44c-33271338951a",
   "metadata": {},
   "source": [
    "Check that the csv files has been created."
   ]
  },
  {
   "cell_type": "code",
   "execution_count": 29,
   "id": "00f41667-581c-4b74-b1ea-b5847644ea6b",
   "metadata": {},
   "outputs": [
    {
     "data": {
      "text/html": [
       "<div>\n",
       "<style scoped>\n",
       "    .dataframe tbody tr th:only-of-type {\n",
       "        vertical-align: middle;\n",
       "    }\n",
       "\n",
       "    .dataframe tbody tr th {\n",
       "        vertical-align: top;\n",
       "    }\n",
       "\n",
       "    .dataframe thead th {\n",
       "        text-align: right;\n",
       "    }\n",
       "</style>\n",
       "<table border=\"1\" class=\"dataframe\">\n",
       "  <thead>\n",
       "    <tr style=\"text-align: right;\">\n",
       "      <th></th>\n",
       "      <th>latitude</th>\n",
       "      <th>longitude</th>\n",
       "      <th>elevation</th>\n",
       "      <th>distance</th>\n",
       "      <th>cumulative_distance</th>\n",
       "    </tr>\n",
       "  </thead>\n",
       "  <tbody>\n",
       "    <tr>\n",
       "      <th>count</th>\n",
       "      <td>100.000000</td>\n",
       "      <td>100.000000</td>\n",
       "      <td>100.00000</td>\n",
       "      <td>100.000000</td>\n",
       "      <td>100.000000</td>\n",
       "    </tr>\n",
       "    <tr>\n",
       "      <th>mean</th>\n",
       "      <td>45.485571</td>\n",
       "      <td>-73.590099</td>\n",
       "      <td>73.93400</td>\n",
       "      <td>2.220142</td>\n",
       "      <td>5646.144833</td>\n",
       "    </tr>\n",
       "    <tr>\n",
       "      <th>std</th>\n",
       "      <td>0.007232</td>\n",
       "      <td>0.014370</td>\n",
       "      <td>57.76649</td>\n",
       "      <td>1.514150</td>\n",
       "      <td>3018.497491</td>\n",
       "    </tr>\n",
       "    <tr>\n",
       "      <th>min</th>\n",
       "      <td>45.472547</td>\n",
       "      <td>-73.610438</td>\n",
       "      <td>18.00000</td>\n",
       "      <td>0.000000</td>\n",
       "      <td>0.000000</td>\n",
       "    </tr>\n",
       "    <tr>\n",
       "      <th>25%</th>\n",
       "      <td>45.480106</td>\n",
       "      <td>-73.603666</td>\n",
       "      <td>22.60000</td>\n",
       "      <td>0.000000</td>\n",
       "      <td>3187.357596</td>\n",
       "    </tr>\n",
       "    <tr>\n",
       "      <th>50%</th>\n",
       "      <td>45.486018</td>\n",
       "      <td>-73.592992</td>\n",
       "      <td>50.90000</td>\n",
       "      <td>2.789315</td>\n",
       "      <td>5899.710849</td>\n",
       "    </tr>\n",
       "    <tr>\n",
       "      <th>75%</th>\n",
       "      <td>45.491422</td>\n",
       "      <td>-73.577565</td>\n",
       "      <td>117.70000</td>\n",
       "      <td>3.462100</td>\n",
       "      <td>7855.971007</td>\n",
       "    </tr>\n",
       "    <tr>\n",
       "      <th>max</th>\n",
       "      <td>45.496528</td>\n",
       "      <td>-73.564141</td>\n",
       "      <td>188.00000</td>\n",
       "      <td>4.735848</td>\n",
       "      <td>11043.150380</td>\n",
       "    </tr>\n",
       "  </tbody>\n",
       "</table>\n",
       "</div>"
      ],
      "text/plain": [
       "         latitude   longitude  elevation    distance  cumulative_distance\n",
       "count  100.000000  100.000000  100.00000  100.000000           100.000000\n",
       "mean    45.485571  -73.590099   73.93400    2.220142          5646.144833\n",
       "std      0.007232    0.014370   57.76649    1.514150          3018.497491\n",
       "min     45.472547  -73.610438   18.00000    0.000000             0.000000\n",
       "25%     45.480106  -73.603666   22.60000    0.000000          3187.357596\n",
       "50%     45.486018  -73.592992   50.90000    2.789315          5899.710849\n",
       "75%     45.491422  -73.577565  117.70000    3.462100          7855.971007\n",
       "max     45.496528  -73.564141  188.00000    4.735848         11043.150380"
      ]
     },
     "execution_count": 29,
     "metadata": {},
     "output_type": "execute_result"
    }
   ],
   "source": [
    "# load one file\n",
    "new_df = pd.read_csv(path_data_csv+\"RunRite_2024_08_01_downSample.csv\")\n",
    "new_df.describe()"
   ]
  },
  {
   "cell_type": "code",
   "execution_count": 13,
   "id": "fe84b2c0-f792-476b-b0e1-7790351fabeb",
   "metadata": {},
   "outputs": [
    {
     "data": {
      "text/html": [
       "<div>\n",
       "<style scoped>\n",
       "    .dataframe tbody tr th:only-of-type {\n",
       "        vertical-align: middle;\n",
       "    }\n",
       "\n",
       "    .dataframe tbody tr th {\n",
       "        vertical-align: top;\n",
       "    }\n",
       "\n",
       "    .dataframe thead th {\n",
       "        text-align: right;\n",
       "    }\n",
       "</style>\n",
       "<table border=\"1\" class=\"dataframe\">\n",
       "  <thead>\n",
       "    <tr style=\"text-align: right;\">\n",
       "      <th></th>\n",
       "      <th>latitude</th>\n",
       "      <th>longitude</th>\n",
       "      <th>elevation</th>\n",
       "      <th>distance</th>\n",
       "      <th>cumulative_distance</th>\n",
       "    </tr>\n",
       "  </thead>\n",
       "  <tbody>\n",
       "    <tr>\n",
       "      <th>count</th>\n",
       "      <td>100.000000</td>\n",
       "      <td>100.000000</td>\n",
       "      <td>100.00000</td>\n",
       "      <td>100.000000</td>\n",
       "      <td>100.000000</td>\n",
       "    </tr>\n",
       "    <tr>\n",
       "      <th>mean</th>\n",
       "      <td>45.485571</td>\n",
       "      <td>-73.590099</td>\n",
       "      <td>73.93400</td>\n",
       "      <td>2.220142</td>\n",
       "      <td>5646.144833</td>\n",
       "    </tr>\n",
       "    <tr>\n",
       "      <th>std</th>\n",
       "      <td>0.007232</td>\n",
       "      <td>0.014370</td>\n",
       "      <td>57.76649</td>\n",
       "      <td>1.514150</td>\n",
       "      <td>3018.497491</td>\n",
       "    </tr>\n",
       "    <tr>\n",
       "      <th>min</th>\n",
       "      <td>45.472547</td>\n",
       "      <td>-73.610438</td>\n",
       "      <td>18.00000</td>\n",
       "      <td>0.000000</td>\n",
       "      <td>0.000000</td>\n",
       "    </tr>\n",
       "    <tr>\n",
       "      <th>25%</th>\n",
       "      <td>45.480106</td>\n",
       "      <td>-73.603666</td>\n",
       "      <td>22.60000</td>\n",
       "      <td>0.000000</td>\n",
       "      <td>3187.357596</td>\n",
       "    </tr>\n",
       "    <tr>\n",
       "      <th>50%</th>\n",
       "      <td>45.486018</td>\n",
       "      <td>-73.592992</td>\n",
       "      <td>50.90000</td>\n",
       "      <td>2.789315</td>\n",
       "      <td>5899.710849</td>\n",
       "    </tr>\n",
       "    <tr>\n",
       "      <th>75%</th>\n",
       "      <td>45.491422</td>\n",
       "      <td>-73.577565</td>\n",
       "      <td>117.70000</td>\n",
       "      <td>3.462100</td>\n",
       "      <td>7855.971007</td>\n",
       "    </tr>\n",
       "    <tr>\n",
       "      <th>max</th>\n",
       "      <td>45.496528</td>\n",
       "      <td>-73.564141</td>\n",
       "      <td>188.00000</td>\n",
       "      <td>4.735848</td>\n",
       "      <td>11043.150380</td>\n",
       "    </tr>\n",
       "  </tbody>\n",
       "</table>\n",
       "</div>"
      ],
      "text/plain": [
       "         latitude   longitude  elevation    distance  cumulative_distance\n",
       "count  100.000000  100.000000  100.00000  100.000000           100.000000\n",
       "mean    45.485571  -73.590099   73.93400    2.220142          5646.144833\n",
       "std      0.007232    0.014370   57.76649    1.514150          3018.497491\n",
       "min     45.472547  -73.610438   18.00000    0.000000             0.000000\n",
       "25%     45.480106  -73.603666   22.60000    0.000000          3187.357596\n",
       "50%     45.486018  -73.592992   50.90000    2.789315          5899.710849\n",
       "75%     45.491422  -73.577565  117.70000    3.462100          7855.971007\n",
       "max     45.496528  -73.564141  188.00000    4.735848         11043.150380"
      ]
     },
     "execution_count": 13,
     "metadata": {},
     "output_type": "execute_result"
    }
   ],
   "source": [
    "list_all_files_ReSample_df[-1].describe()"
   ]
  },
  {
   "cell_type": "code",
   "execution_count": 14,
   "id": "0299beee-48ff-4e70-9928-fc9282eb70a2",
   "metadata": {},
   "outputs": [
    {
     "name": "stdout",
     "output_type": "stream",
     "text": [
      "../data//gpx/RunRite_2024_08_01.gpx ../data//gpx/RunRite_2024_08_01.gpx\n"
     ]
    }
   ],
   "source": [
    "print(list_all_files[0],list_all_files[-1])"
   ]
  },
  {
   "cell_type": "code",
   "execution_count": 21,
   "id": "d6149a39-7467-4a02-a85e-62b1d71256fc",
   "metadata": {},
   "outputs": [
    {
     "name": "stdout",
     "output_type": "stream",
     "text": [
      "9549.68720853391\n",
      "11043.150380348541\n"
     ]
    }
   ],
   "source": [
    "print(list_all_files_ReSample_df[0][\"cumulative_distance\"].iloc[-1])\n",
    "print(list_all_files_ReSample_df[-1][\"cumulative_distance\"].iloc[-1])"
   ]
  },
  {
   "cell_type": "markdown",
   "id": "198cb3bb-aacf-4f3e-af1f-9023263403e1",
   "metadata": {},
   "source": [
    "# Now the datavisulaization can start\n",
    "\n",
    "Before let's have a look at the data I have, how they are organized.\n",
    "\n",
    "In folders I have:\n",
    "+ *../data/gpx/* the .gpx files for each run, each of them name **RunRite_year_month_day.gpx**\n",
    "+ *../data/csv/* the .csv files for each run in reduced size comparing to the .gpx files , each of them name **RunRite_year_month_day_downSample.csv**\n",
    "\n",
    "# Re-load the data\n",
    "\n",
    "I want to have:\n",
    "+ a list of all file names\n",
    "+ a list of panda DataFrame where each element is for a single run"
   ]
  },
  {
   "cell_type": "code",
   "execution_count": 22,
   "id": "f9c1c11b-2c3c-4831-bca1-bab0e2c9c92e",
   "metadata": {},
   "outputs": [
    {
     "data": {
      "text/html": [
       "<div>\n",
       "<style scoped>\n",
       "    .dataframe tbody tr th:only-of-type {\n",
       "        vertical-align: middle;\n",
       "    }\n",
       "\n",
       "    .dataframe tbody tr th {\n",
       "        vertical-align: top;\n",
       "    }\n",
       "\n",
       "    .dataframe thead th {\n",
       "        text-align: right;\n",
       "    }\n",
       "</style>\n",
       "<table border=\"1\" class=\"dataframe\">\n",
       "  <thead>\n",
       "    <tr style=\"text-align: right;\">\n",
       "      <th></th>\n",
       "      <th>latitude</th>\n",
       "      <th>longitude</th>\n",
       "      <th>elevation</th>\n",
       "      <th>distance</th>\n",
       "      <th>cumulative_distance</th>\n",
       "    </tr>\n",
       "  </thead>\n",
       "  <tbody>\n",
       "    <tr>\n",
       "      <th>count</th>\n",
       "      <td>100.000000</td>\n",
       "      <td>100.000000</td>\n",
       "      <td>100.000000</td>\n",
       "      <td>100.000000</td>\n",
       "      <td>100.000000</td>\n",
       "    </tr>\n",
       "    <tr>\n",
       "      <th>mean</th>\n",
       "      <td>45.468929</td>\n",
       "      <td>-73.624705</td>\n",
       "      <td>73.310000</td>\n",
       "      <td>2.423878</td>\n",
       "      <td>4926.576085</td>\n",
       "    </tr>\n",
       "    <tr>\n",
       "      <th>std</th>\n",
       "      <td>0.005701</td>\n",
       "      <td>0.008375</td>\n",
       "      <td>8.502757</td>\n",
       "      <td>1.046578</td>\n",
       "      <td>2765.450691</td>\n",
       "    </tr>\n",
       "    <tr>\n",
       "      <th>min</th>\n",
       "      <td>45.458722</td>\n",
       "      <td>-73.640089</td>\n",
       "      <td>60.000000</td>\n",
       "      <td>0.000000</td>\n",
       "      <td>0.000000</td>\n",
       "    </tr>\n",
       "    <tr>\n",
       "      <th>25%</th>\n",
       "      <td>45.464626</td>\n",
       "      <td>-73.632082</td>\n",
       "      <td>66.000000</td>\n",
       "      <td>2.256777</td>\n",
       "      <td>2636.791994</td>\n",
       "    </tr>\n",
       "    <tr>\n",
       "      <th>50%</th>\n",
       "      <td>45.469419</td>\n",
       "      <td>-73.622529</td>\n",
       "      <td>71.000000</td>\n",
       "      <td>2.621083</td>\n",
       "      <td>5002.988528</td>\n",
       "    </tr>\n",
       "    <tr>\n",
       "      <th>75%</th>\n",
       "      <td>45.474010</td>\n",
       "      <td>-73.618103</td>\n",
       "      <td>78.000000</td>\n",
       "      <td>2.987005</td>\n",
       "      <td>7267.802797</td>\n",
       "    </tr>\n",
       "    <tr>\n",
       "      <th>max</th>\n",
       "      <td>45.478080</td>\n",
       "      <td>-73.610549</td>\n",
       "      <td>93.000000</td>\n",
       "      <td>4.714748</td>\n",
       "      <td>9549.687209</td>\n",
       "    </tr>\n",
       "  </tbody>\n",
       "</table>\n",
       "</div>"
      ],
      "text/plain": [
       "         latitude   longitude   elevation    distance  cumulative_distance\n",
       "count  100.000000  100.000000  100.000000  100.000000           100.000000\n",
       "mean    45.468929  -73.624705   73.310000    2.423878          4926.576085\n",
       "std      0.005701    0.008375    8.502757    1.046578          2765.450691\n",
       "min     45.458722  -73.640089   60.000000    0.000000             0.000000\n",
       "25%     45.464626  -73.632082   66.000000    2.256777          2636.791994\n",
       "50%     45.469419  -73.622529   71.000000    2.621083          5002.988528\n",
       "75%     45.474010  -73.618103   78.000000    2.987005          7267.802797\n",
       "max     45.478080  -73.610549   93.000000    4.714748          9549.687209"
      ]
     },
     "execution_count": 22,
     "metadata": {},
     "output_type": "execute_result"
    }
   ],
   "source": [
    "# list of file names\n",
    "path_csv_files = \"../data/csv/\"\n",
    "list_csv_files  = glob.glob(path_csv_files+\"*.csv\")\n",
    "list_csv_files.sort()\n",
    "\n",
    "# list of panda DataFrame\n",
    "list_run_df = []\n",
    "for c, f in enumerate(list_csv_files):\n",
    "    list_run_df.append(pd.read_csv(f))\n",
    "    \n",
    "list_run_df[0].describe()"
   ]
  },
  {
   "cell_type": "markdown",
   "id": "77cdccdb-9d65-4a89-bd2b-6678da6f4fd4",
   "metadata": {},
   "source": [
    "# Add extra data cleaning\n",
    "\n",
    "I need to:\n",
    "+ clean data to keep only the gps trace of the run\n",
    "+ to remove all point before and after arrival"
   ]
  },
  {
   "cell_type": "markdown",
   "id": "6b701d1f-06d3-43f4-b782-93205c80d00b",
   "metadata": {},
   "source": [
    "# Adding missing data\n",
    "\n",
    "Sometimes I don't have the data, so I get them from other runners, as we don't use all the same device to record our run we don't have always the same extra information. Therefore I skipped adding the _time_ added to each (longitude, latitude) point."
   ]
  }
 ],
 "metadata": {
  "kernelspec": {
   "display_name": "Python 3 (ipykernel)",
   "language": "python",
   "name": "python3"
  },
  "language_info": {
   "codemirror_mode": {
    "name": "ipython",
    "version": 3
   },
   "file_extension": ".py",
   "mimetype": "text/x-python",
   "name": "python",
   "nbconvert_exporter": "python",
   "pygments_lexer": "ipython3",
   "version": "3.12.4"
  }
 },
 "nbformat": 4,
 "nbformat_minor": 5
}
