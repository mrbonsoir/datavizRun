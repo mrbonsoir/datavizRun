{
 "cells": [
  {
   "cell_type": "markdown",
   "id": "b283669a-8c3c-46e8-a8de-a3a635025c47",
   "metadata": {},
   "source": [
    "# Program a function to return prime number\n",
    "\n",
    "A prime number can only be divived by itself, "
   ]
  },
  {
   "cell_type": "code",
   "execution_count": 1,
   "id": "0632fc46-658d-44db-b2f5-6ab0adc45939",
   "metadata": {},
   "outputs": [],
   "source": [
    "import numpy as np"
   ]
  },
  {
   "cell_type": "code",
   "execution_count": 51,
   "id": "55f2b13e-282c-4bb8-91a3-cda2afbbb919",
   "metadata": {},
   "outputs": [
    {
     "name": "stdout",
     "output_type": "stream",
     "text": [
      "range(0, 11)\n"
     ]
    }
   ],
   "source": [
    "print(range(11))"
   ]
  },
  {
   "cell_type": "code",
   "execution_count": 121,
   "id": "7584b311-c88a-46f3-8b50-5bdcc4e6f330",
   "metadata": {},
   "outputs": [
    {
     "name": "stdout",
     "output_type": "stream",
     "text": [
      "Yes  2 is prime number\n",
      "Yes  3 is prime number\n",
      "Yes  4 is prime number\n",
      "Yes  5 is prime number\n",
      "Yes  6 is prime number\n",
      "Yes  7 is prime number\n",
      "Yes  8 is prime number\n",
      "Yes  9 is prime number\n"
     ]
    }
   ],
   "source": [
    "##random_number = np.random.randint(2,20)\n",
    "#print(\"Is {0:1.0f} a prime number?\".format(random_number))\n",
    "\n",
    "def fun_prime_number(a_number):\n",
    "    new_list = [i for i in np.arange(1, a_number+1) if a_number % i == 0]\n",
    "    if len(new_list) == 2:\n",
    "        answer = (a_number,\"Yes\"#True\n",
    "    else:\n",
    "        answer = a_number, \"Nope\"#False\n",
    "    return answer\n",
    "        \n",
    "for ii in np.arange(2,10):\n",
    "    random_number = ii\n",
    "    if fun_prime_number(random_number):\n",
    "        print(\"Yes {0:2.0f} is prime number\".format(random_number))\n",
    "    else:\n",
    "        print(\"No {0:2.0f} is not prime number\".format(random_number))\n"
   ]
  },
  {
   "cell_type": "code",
   "execution_count": 122,
   "id": "b0e3ff5d-d92a-419e-9895-5f28dc35ea45",
   "metadata": {},
   "outputs": [
    {
     "name": "stdout",
     "output_type": "stream",
     "text": [
      "['Yes', 'Yes', 'Nope', 'Yes', 'Nope', 'Yes', 'Nope', 'Nope', 'Nope', 'Yes', 'Nope', 'Yes', 'Nope', 'Nope', 'Nope', 'Yes', 'Nope', 'Yes', 'Nope', 'Nope', 'Nope', 'Yes', 'Nope', 'Nope', 'Nope', 'Nope', 'Nope', 'Yes', 'Nope', 'Yes', 'Nope', 'Nope', 'Nope', 'Nope', 'Nope', 'Yes', 'Nope', 'Nope', 'Nope', 'Yes', 'Nope', 'Yes', 'Nope', 'Nope', 'Nope', 'Yes', 'Nope', 'Nope', 'Nope', 'Nope', 'Nope', 'Yes', 'Nope', 'Nope', 'Nope', 'Nope', 'Nope', 'Yes', 'Nope', 'Yes', 'Nope', 'Nope', 'Nope', 'Nope', 'Nope', 'Yes', 'Nope', 'Nope', 'Nope', 'Yes', 'Nope', 'Yes', 'Nope', 'Nope', 'Nope', 'Nope', 'Nope', 'Yes', 'Nope', 'Nope', 'Nope', 'Yes', 'Nope', 'Nope', 'Nope', 'Nope', 'Nope', 'Yes', 'Nope', 'Nope', 'Nope', 'Nope', 'Nope', 'Nope', 'Nope', 'Yes', 'Nope', 'Nope']\n"
     ]
    }
   ],
   "source": [
    "numbers = np.arange(2,10)\n",
    "res_prime = [fun_prime_number(x) for x in range(2,100)]\n",
    "print(res_prime)"
   ]
  }
 ],
 "metadata": {
  "kernelspec": {
   "display_name": "Python 3 (ipykernel)",
   "language": "python",
   "name": "python3"
  },
  "language_info": {
   "codemirror_mode": {
    "name": "ipython",
    "version": 3
   },
   "file_extension": ".py",
   "mimetype": "text/x-python",
   "name": "python",
   "nbconvert_exporter": "python",
   "pygments_lexer": "ipython3",
   "version": "3.12.4"
  }
 },
 "nbformat": 4,
 "nbformat_minor": 5
}
